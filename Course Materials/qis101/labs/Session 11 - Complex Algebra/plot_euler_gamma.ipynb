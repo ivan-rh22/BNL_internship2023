{
 "cells": [
  {
   "cell_type": "code",
   "execution_count": null,
   "id": "34dae5bd",
   "metadata": {
    "tags": []
   },
   "outputs": [],
   "source": [
    "\"\"\"plot_euler_gamma.ipynb\"\"\"\n",
    "# Cell 1\n",
    "\n",
    "from __future__ import annotations\n",
    "\n",
    "import typing\n",
    "\n",
    "import matplotlib.pyplot as plt\n",
    "from matplotlib.markers import MarkerStyle\n",
    "import numpy as np\n",
    "\n",
    "if typing.TYPE_CHECKING:\n",
    "    from typing import Callable\n",
    "\n",
    "    from matplotlib.axes import Axes\n",
    "    from numpy.typing import NDArray\n",
    "\n",
    "%matplotlib widget\n",
    "\n",
    "\n",
    "def factorial_recursive(n: int) -> int:\n",
    "    if n == 0:\n",
    "        return 1\n",
    "    else:\n",
    "        return int(n) * factorial_recursive(n - 1)\n",
    "\n",
    "\n",
    "def f(x: float, s: NDArray[np.float_]) -> float:\n",
    "    try:\n",
    "        return np.power(x, s - 1) * np.exp(-x)\n",
    "    except ZeroDivisionError:\n",
    "        return 0\n",
    "\n",
    "\n",
    "# fmt: off\n",
    "def simpsons_rule(func: Callable[[float, NDArray[np.float_]], float],\n",
    "                  s: NDArray[np.float_],\n",
    "                  a: float, b: float, intervals: int) -> NDArray[np.float_]:\n",
    "#fmt: on\n",
    "    \"\"\"Numerically estimate the integral of func() in [a,b] using Simpson's rule\"\"\"\n",
    "    dx: float = (b - a) / intervals\n",
    "    area: float = func(a, s) + func(b, s)\n",
    "    for i in range(1, intervals):\n",
    "        area += func(a + i * dx, s) * (2 * (i % 2 + 1))\n",
    "    return np.asarray(dx / 3 * area, dtype=np.float_)\n",
    "\n",
    "\n",
    "def euler_gamma(s: NDArray[np.float_]) -> NDArray[np.float_]:\n",
    "    return simpsons_rule(f, s, 0, int(1e3), int(1e5))\n",
    "\n",
    "\n",
    "def factorial_gamma(x: NDArray[np.float_]) -> NDArray[np.float_]:\n",
    "    return np.round(euler_gamma(x + 1), 5)\n",
    "\n",
    "\n",
    "def plot(ax: Axes, zoom: bool) -> None:\n",
    "    xa: NDArray[np.float_] = np.linspace(0, 5, 100, dtype=np.float_)\n",
    "\n",
    "    ax.plot(xa, factorial_gamma(xa), label=r\"$\\Gamma \\left( x + 1 \\right)$\")\n",
    "\n",
    "    n: list[int] = [factorial_recursive(i) for i in range(6)]\n",
    "\n",
    "    ax.plot(range(len(n)), n, color=\"red\", marker=MarkerStyle(\"o\"), label=\"$n!$\")\n",
    "\n",
    "    ax.set_title(\"Factorial Via Euler's Gamma Function\")\n",
    "    ax.set_xlabel(\"x\")\n",
    "    ax.set_ylabel(\"Factorial (x)\")\n",
    "    ax.grid()\n",
    "    ax.legend(loc=\"best\")\n",
    "\n",
    "    ax.set_xlim(0, 5.1)\n",
    "\n",
    "    if zoom:\n",
    "        ax.set_xlim(0, 2.1)\n",
    "        ax.set_ylim(0.5, 2.1)\n",
    "\n",
    "\n",
    "def plot_euler_gamma(zoom: bool = False) -> None:\n",
    "    plt.close(\"all\")\n",
    "    plt.figure(\" \")\n",
    "    plot(plt.axes(), zoom)\n",
    "    plt.show()\n",
    "\n",
    "\n",
    "plot_euler_gamma()"
   ]
  },
  {
   "cell_type": "code",
   "execution_count": null,
   "id": "d8b35563-244f-4341-8b16-44faf7983860",
   "metadata": {
    "tags": []
   },
   "outputs": [],
   "source": [
    "# Cell 2\n",
    "\n",
    "plot_euler_gamma(zoom=True)\n"
   ]
  }
 ],
 "metadata": {
  "kernelspec": {
   "display_name": "Python 3 (ipykernel)",
   "language": "python",
   "name": "python3"
  },
  "language_info": {
   "codemirror_mode": {
    "name": "ipython",
    "version": 3
   },
   "file_extension": ".py",
   "mimetype": "text/x-python",
   "name": "python",
   "nbconvert_exporter": "python",
   "pygments_lexer": "ipython3",
   "version": "3.9.16"
  },
  "vscode": {
   "interpreter": {
    "hash": "4431dc44d4f2686070e0fc53d953ad3cc7928e817d4e69983712ddc54c23870a"
   }
  }
 },
 "nbformat": 4,
 "nbformat_minor": 5
}
