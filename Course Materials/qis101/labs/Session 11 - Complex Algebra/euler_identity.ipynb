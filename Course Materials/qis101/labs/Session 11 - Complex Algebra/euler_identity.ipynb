{
 "cells": [
  {
   "cell_type": "code",
   "execution_count": null,
   "id": "f22660c7",
   "metadata": {
    "tags": []
   },
   "outputs": [],
   "source": [
    "\"\"\"euler_identity.ipynb\"\"\"\n",
    "# Cell 1\n",
    "\n",
    "import math\n",
    "\n",
    "import numpy as np\n",
    "from IPython.core.display import Math\n",
    "\n",
    "z = complex(0, np.pi)\n",
    "ez = 0\n",
    "\n",
    "for p in range(0, 20):\n",
    "    ez += np.power(z, p) / math.factorial(p)\n",
    "\n",
    "display(Math(rf\"\\Large e^{{{z:.6f}}} = {ez:.6f}\"))"
   ]
  }
 ],
 "metadata": {
  "kernelspec": {
   "display_name": "Python 3 (ipykernel)",
   "language": "python",
   "name": "python3"
  },
  "language_info": {
   "codemirror_mode": {
    "name": "ipython",
    "version": 3
   },
   "file_extension": ".py",
   "mimetype": "text/x-python",
   "name": "python",
   "nbconvert_exporter": "python",
   "pygments_lexer": "ipython3",
   "version": "3.9.16"
  },
  "vscode": {
   "interpreter": {
    "hash": "4431dc44d4f2686070e0fc53d953ad3cc7928e817d4e69983712ddc54c23870a"
   }
  }
 },
 "nbformat": 4,
 "nbformat_minor": 5
}
