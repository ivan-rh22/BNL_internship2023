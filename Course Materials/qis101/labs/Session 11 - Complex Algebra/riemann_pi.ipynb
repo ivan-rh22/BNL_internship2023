{
 "cells": [
  {
   "cell_type": "code",
   "execution_count": null,
   "id": "e3e11c5b-b005-4278-bd90-df370b9110eb",
   "metadata": {
    "tags": []
   },
   "outputs": [],
   "source": [
    "\"\"\"riemann_pi.ipynb\"\"\"\n",
    "# Cell 1\n",
    "\n",
    "from IPython.core.display import Math\n",
    "from sympy import primepi\n",
    "\n",
    "for n in range(1, 10):\n",
    "    # Use sympy to calculate the Riemann Pi for 10^n\n",
    "    riemann_pi = int(primepi(10**n))\n",
    "    display(Math(rf\"\\pi(10^{n}) = {riemann_pi:,}\"))"
   ]
  }
 ],
 "metadata": {
  "kernelspec": {
   "display_name": "Python 3 (ipykernel)",
   "language": "python",
   "name": "python3"
  },
  "language_info": {
   "codemirror_mode": {
    "name": "ipython",
    "version": 3
   },
   "file_extension": ".py",
   "mimetype": "text/x-python",
   "name": "python",
   "nbconvert_exporter": "python",
   "pygments_lexer": "ipython3",
   "version": "3.9.16"
  },
  "vscode": {
   "interpreter": {
    "hash": "4431dc44d4f2686070e0fc53d953ad3cc7928e817d4e69983712ddc54c23870a"
   }
  }
 },
 "nbformat": 4,
 "nbformat_minor": 5
}
