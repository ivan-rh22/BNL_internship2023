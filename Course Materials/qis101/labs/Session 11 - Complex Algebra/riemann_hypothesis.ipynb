{
 "cells": [
  {
   "cell_type": "code",
   "execution_count": null,
   "id": "34dae5bd",
   "metadata": {
    "tags": []
   },
   "outputs": [],
   "source": [
    "\"\"\"riemann_hypothesis.ipynb\"\"\"\n",
    "# Cell 1\n",
    "\n",
    "from __future__ import annotations\n",
    "\n",
    "import typing\n",
    "\n",
    "import matplotlib.pyplot as plt\n",
    "import numpy as np\n",
    "from matplotlib.markers import MarkerStyle\n",
    "\n",
    "if typing.TYPE_CHECKING:\n",
    "    from matplotlib.axes import Axes\n",
    "    from numpy.typing import NDArray\n",
    "\n",
    "\n",
    "%matplotlib widget\n",
    "\n",
    "\n",
    "def eta_term(s: complex, n: int) -> complex:\n",
    "    return complex(1 / np.power(n, s))\n",
    "\n",
    "\n",
    "def fn_eta(s: complex) -> complex:\n",
    "    terms: int = int(1000)\n",
    "    vec_eta_term = np.vectorize(eta_term)\n",
    "    eta: complex = (\n",
    "        complex(1)\n",
    "        - np.sum(vec_eta_term(s, np.arange(2, terms, 2, dtype=int)))\n",
    "        + np.sum(vec_eta_term(s, np.arange(3, terms, 2, dtype=int)))\n",
    "    )\n",
    "    return eta\n",
    "\n",
    "\n",
    "def fn_zeta_from_eta(s: complex) -> complex:\n",
    "    return s / (1.0 - np.power(2, 1.0 - s))\n",
    "\n",
    "\n",
    "def plot(ax: Axes) -> None:\n",
    "    xa: NDArray[np.float_] = np.linspace(-1, 31, 800)\n",
    "    xz: list[complex] = [complex(0.5, i) for i in xa]\n",
    "\n",
    "    eta: list[complex] = [fn_eta(s) for s in xz]\n",
    "    zeta: list[complex] = [fn_zeta_from_eta(s) for s in eta]\n",
    "\n",
    "    ax.plot(xa, np.absolute(eta), label=r\"$\\zeta \\left( s \\right)$\")\n",
    "    ax.plot(xa, np.absolute(zeta), label=r\"$\\eta \\left( s \\right)$\", color=\"red\")\n",
    "\n",
    "    zeta_zeros_im: list[float] = [\n",
    "        14.134725141,\n",
    "        21.022039638,\n",
    "        25.010857580,\n",
    "        30.424876125,\n",
    "    ]\n",
    "    ax.scatter(\n",
    "        zeta_zeros_im,\n",
    "        [0] * len(zeta_zeros_im),\n",
    "        marker=MarkerStyle(\"o\"),\n",
    "        color=\"green\",\n",
    "        label=r\"$\\zeta\\ root$\",\n",
    "    )\n",
    "\n",
    "    ax.set_title(r\"$Riemann\\;\\zeta(s)\\;vs.\\;Dirichlet\\;\\eta(s)$\")\n",
    "    ax.set_xlabel(r\"$\\mathrm{Im}\\{s\\}$\")\n",
    "    ax.set_ylabel(r\"$\\left|s\\right\\|$\")\n",
    "    ax.legend(loc=\"best\")\n",
    "    ax.set_axisbelow(True)\n",
    "    ax.grid(color=\"gray\", linestyle=\"dashed\")\n",
    "\n",
    "\n",
    "def main() -> None:\n",
    "    plt.close(\"all\")\n",
    "    plt.figure(\" \")\n",
    "    plot(plt.axes())\n",
    "    plt.show()\n",
    "\n",
    "\n",
    "main()"
   ]
  }
 ],
 "metadata": {
  "kernelspec": {
   "display_name": "Python 3 (ipykernel)",
   "language": "python",
   "name": "python3"
  },
  "language_info": {
   "codemirror_mode": {
    "name": "ipython",
    "version": 3
   },
   "file_extension": ".py",
   "mimetype": "text/x-python",
   "name": "python",
   "nbconvert_exporter": "python",
   "pygments_lexer": "ipython3",
   "version": "3.9.16"
  },
  "vscode": {
   "interpreter": {
    "hash": "4431dc44d4f2686070e0fc53d953ad3cc7928e817d4e69983712ddc54c23870a"
   }
  }
 },
 "nbformat": 4,
 "nbformat_minor": 5
}
