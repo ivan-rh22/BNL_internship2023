{
 "cells": [
  {
   "cell_type": "code",
   "execution_count": null,
   "id": "880b7a42-cd63-4d96-b3f0-4120106ac272",
   "metadata": {
    "tags": []
   },
   "outputs": [],
   "source": [
    "\"\"\"rkf45_nuclear_decay.ipynb\"\"\"\n",
    "# Cell 1\n",
    "\n",
    "from __future__ import annotations\n",
    "\n",
    "import typing\n",
    "\n",
    "import matplotlib.pyplot as plt\n",
    "import numpy as np\n",
    "from matplotlib.ticker import AutoMinorLocator\n",
    "from scipy.integrate import solve_ivp  # type: ignore\n",
    "\n",
    "if typing.TYPE_CHECKING:\n",
    "    from typing import Any\n",
    "\n",
    "    from matplotlib.axes import Axes\n",
    "    from numpy.typing import NDArray\n",
    "\n",
    "%matplotlib widget\n",
    "\n",
    "atom_name: str = \"Carbon-14\"\n",
    "time_scale: str = \"years\"\n",
    "tau: float = 5730\n",
    "time_final: float = 40_000\n",
    "max_time_step: float = 10\n",
    "\n",
    "\n",
    "def model(time: float, state_vector: float, tau: float) -> float:\n",
    "    nuclei: float = state_vector\n",
    "    d_nuclei: float = -nuclei / tau\n",
    "    return d_nuclei\n",
    "\n",
    "\n",
    "def plot(ax: Axes) -> None:\n",
    "    # Initial concentration of nuclei (100%)\n",
    "    time_initial: float = 0\n",
    "    nuclei_initial: float = 100\n",
    "\n",
    "    # Invoke Scipy Initial Value Problem (ivp) Solver\n",
    "    sol: Any = solve_ivp(\n",
    "        model,  # your function\n",
    "        (time_initial, time_final),  # time span tuple\n",
    "        [nuclei_initial],  # initial state vector\n",
    "        max_step=max_time_step,  # maximum time step\n",
    "        args=[tau],  # optional constants\n",
    "    )\n",
    "\n",
    "    # Retrieve the solution values returned by SciPy\n",
    "    time_steps: NDArray[np.float_] = np.array(sol.t, dtype=np.float_)\n",
    "    \n",
    "    nuclei_count: NDArray[np.float_]\n",
    "    nuclei_count, = np.array(sol.y, dtype=np.float_)\n",
    "\n",
    "    ax.plot(time_steps, nuclei_count, color=\"red\")\n",
    "\n",
    "    ax.set_title(f\"{atom_name} Radioactive Decay (RKF45 Method)\")\n",
    "    ax.set_xlabel(f\"time ({time_scale})\")\n",
    "    ax.set_ylabel(\"% Concentration\")\n",
    "\n",
    "    ax.xaxis.set_minor_locator(AutoMinorLocator())\n",
    "    ax.yaxis.set_minor_locator(AutoMinorLocator())\n",
    "\n",
    "\n",
    "def simulate_decay() -> None:\n",
    "    plt.close(\"all\")\n",
    "    plt.figure(\" \")\n",
    "    plot(plt.axes())\n",
    "    plt.show()\n",
    "\n",
    "\n",
    "simulate_decay()"
   ]
  },
  {
   "cell_type": "code",
   "execution_count": null,
   "id": "23030f26-2556-46bf-8f4d-de080d79f65c",
   "metadata": {
    "tags": []
   },
   "outputs": [],
   "source": [
    "# Cell 2\n",
    "\n",
    "atom_name: str = \"Fluorine-18\"\n",
    "time_scale: str = \"hours\"\n",
    "tau: float = 6586.0 / 60 / 60\n",
    "time_final: float = 12\n",
    "max_time_step: float = 0.01\n",
    "\n",
    "simulate_decay()"
   ]
  }
 ],
 "metadata": {
  "kernelspec": {
   "display_name": "Python 3 (ipykernel)",
   "language": "python",
   "name": "python3"
  },
  "language_info": {
   "codemirror_mode": {
    "name": "ipython",
    "version": 3
   },
   "file_extension": ".py",
   "mimetype": "text/x-python",
   "name": "python",
   "nbconvert_exporter": "python",
   "pygments_lexer": "ipython3",
   "version": "3.9.16"
  }
 },
 "nbformat": 4,
 "nbformat_minor": 5
}
