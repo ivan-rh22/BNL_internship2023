{
 "cells": [
  {
   "cell_type": "code",
   "execution_count": null,
   "id": "042648d9-8de8-497f-92fe-39c5200b9dd2",
   "metadata": {
    "tags": []
   },
   "outputs": [],
   "source": [
    "\"\"\"make_samples.ipynb\"\"\"\n",
    "# Cell 1\n",
    "\n",
    "from __future__ import annotations\n",
    "\n",
    "import typing\n",
    "\n",
    "import matplotlib.pyplot as plt\n",
    "import numpy as np\n",
    "from matplotlib.ticker import AutoMinorLocator\n",
    "\n",
    "if typing.TYPE_CHECKING:\n",
    "    from matplotlib.axes import Axes\n",
    "    from numpy.typing import NDArray\n",
    "\n",
    "\n",
    "%matplotlib widget\n",
    "\n",
    "# fmt: off\n",
    "def f(x: NDArray[np.float_]) -> NDArray[np.float_]:\n",
    "    return np.array(29 * np.cos(3 * x) + 7 * np.cos(19 * x)\n",
    "                    + 17 * np.sin(11 * x) + 2 * np.sin(31 * x))\n",
    "# fmt: on\n",
    "\n",
    "\n",
    "def plot(ax: Axes) -> None:\n",
    "    sample_duration: float = 2 * np.pi\n",
    "    num_samples: int = 1000\n",
    "\n",
    "    ts: NDArray[np.float_] = np.linspace(\n",
    "        0, sample_duration, num_samples, endpoint=False\n",
    "    )\n",
    "    ys: NDArray[np.float_] = f(ts)\n",
    "\n",
    "    np.savetxt(\"samples.csv\", np.vstack((ts, ys)).T, fmt=\"%1.13f\", delimiter=\", \")\n",
    "\n",
    "    ax.set_title(f\"Sampled Wave ({num_samples} samples)\")\n",
    "    ax.set_xlabel(\"time\")\n",
    "    ax.set_ylabel(\"amplitude\")\n",
    "\n",
    "    ax.axhline(y=0.0, color=\"lightgray\", linewidth=1)\n",
    "\n",
    "    # fmt: off\n",
    "    ax.plot(ts, ys, color=\"lightgray\",\n",
    "        marker=\"o\", markerfacecolor=\"none\",\n",
    "        markersize=1, markeredgecolor=\"black\")\n",
    "    # fmt: on\n",
    "\n",
    "    ax.xaxis.set_minor_locator(AutoMinorLocator())\n",
    "    ax.yaxis.set_minor_locator(AutoMinorLocator())\n",
    "\n",
    "\n",
    "def main() -> None:\n",
    "    plt.close(\"all\")\n",
    "    plt.figure(\" \")\n",
    "    plot(plt.axes())\n",
    "    plt.show()\n",
    "\n",
    "\n",
    "main()"
   ]
  }
 ],
 "metadata": {
  "kernelspec": {
   "display_name": "Python 3 (ipykernel)",
   "language": "python",
   "name": "python3"
  },
  "language_info": {
   "codemirror_mode": {
    "name": "ipython",
    "version": 3
   },
   "file_extension": ".py",
   "mimetype": "text/x-python",
   "name": "python",
   "nbconvert_exporter": "python",
   "pygments_lexer": "ipython3",
   "version": "3.9.16"
  }
 },
 "nbformat": 4,
 "nbformat_minor": 5
}
