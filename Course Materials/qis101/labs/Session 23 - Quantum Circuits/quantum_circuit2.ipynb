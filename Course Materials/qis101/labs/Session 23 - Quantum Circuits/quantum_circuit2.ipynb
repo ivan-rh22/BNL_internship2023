{
 "cells": [
  {
   "cell_type": "code",
   "execution_count": null,
   "id": "635e333e-805a-4eb0-a85a-bd5745deaabb",
   "metadata": {},
   "outputs": [],
   "source": [
    "\"\"\"quantum_circuit2.ipynb\"\"\"\n",
    "# Cell 1 - Circuit to produce only two states (63 or 64 decimal)\n",
    "\n",
    "from __future__ import annotations\n",
    "\n",
    "import typing\n",
    "\n",
    "from qiskit import Aer, QuantumCircuit, execute  # type: ignore\n",
    "from qiskit.visualization import plot_distribution  # type: ignore\n",
    "\n",
    "if typing.TYPE_CHECKING:\n",
    "    from typing import Any\n",
    "\n",
    "backend: Any = Aer.get_backend(\"statevector_simulator\")\n",
    "qc: Any = QuantumCircuit(7)\n",
    "\n",
    "# TODO: Implement your circuit here\n",
    "\n",
    "\n",
    "# Do not modify the following code\n",
    "qc.save_statevector(\"sv1\")\n",
    "result: Any = execute(qc, backend).result()\n",
    "counts: Any = result.get_counts()\n",
    "display(qc.draw(output=\"mpl\", scale=1.5))\n",
    "display(plot_distribution(counts))  # type: ignore"
   ]
  }
 ],
 "metadata": {
  "kernelspec": {
   "display_name": "Python 3 (ipykernel)",
   "language": "python",
   "name": "python3"
  },
  "language_info": {
   "codemirror_mode": {
    "name": "ipython",
    "version": 3
   },
   "file_extension": ".py",
   "mimetype": "text/x-python",
   "name": "python",
   "nbconvert_exporter": "python",
   "pygments_lexer": "ipython3",
   "version": "3.9.16"
  }
 },
 "nbformat": 4,
 "nbformat_minor": 5
}
