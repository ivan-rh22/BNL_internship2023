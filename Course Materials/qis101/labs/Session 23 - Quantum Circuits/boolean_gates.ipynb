{
 "cells": [
  {
   "cell_type": "code",
   "execution_count": null,
   "id": "5f004bd5-5089-4a01-ab3e-ef4134c7b9bc",
   "metadata": {
    "tags": []
   },
   "outputs": [],
   "source": [
    "\"\"\"boolean_gates.ipynb\"\"\"\n",
    "# Cell 1 - Quantum emulation of a classical Boolean AND Gate\n",
    "\n",
    "from __future__ import annotations\n",
    "\n",
    "import typing\n",
    "\n",
    "from qiskit import Aer, QuantumCircuit, execute  # type: ignore\n",
    "from qiskit.visualization import plot_distribution  # type: ignore\n",
    "\n",
    "if typing.TYPE_CHECKING:\n",
    "    from typing import Any\n",
    "\n",
    "\n",
    "backend: Any = Aer.get_backend(\"aer_simulator\")\n",
    "qc: Any = QuantumCircuit(3, 1)\n",
    "\n",
    "qc.x(0)\n",
    "qc.x(1)\n",
    "qc.barrier()\n",
    "\n",
    "qc.ccx(0, 1, 2)\n",
    "qc.barrier()\n",
    "\n",
    "qc.measure(2, 0)\n",
    "\n",
    "result: Any = execute(qc, backend).result()\n",
    "counts: Any = result.get_counts()\n",
    "\n",
    "display(qc.draw(output=\"mpl\", scale=1.5))\n",
    "display(plot_distribution(counts))  # type: ignore"
   ]
  },
  {
   "cell_type": "code",
   "execution_count": null,
   "id": "6dc14b08-eda0-49a8-96a9-5249c2d4aaa6",
   "metadata": {
    "tags": []
   },
   "outputs": [],
   "source": [
    "# Cell 2 - Quantum emulation of a classical Boolean OR Gate\n",
    "\n",
    "backend: Any = Aer.get_backend(\"aer_simulator\")\n",
    "qc: Any = QuantumCircuit(3, 1)\n",
    "\n",
    "# qc.x(0)\n",
    "# qc.x(1)\n",
    "qc.barrier()\n",
    "\n",
    "qc.x(0)\n",
    "qc.x(1)\n",
    "qc.x(2)\n",
    "qc.barrier()\n",
    "\n",
    "qc.ccx(0, 1, 2)\n",
    "qc.barrier()\n",
    "\n",
    "qc.x(0)\n",
    "qc.x(1)\n",
    "qc.barrier()\n",
    "\n",
    "qc.measure(2, 0)\n",
    "\n",
    "result: Any = execute(qc, backend).result()\n",
    "counts: Any = result.get_counts()\n",
    "\n",
    "display(qc.draw(output=\"mpl\", scale=1.5))\n",
    "display(plot_distribution(counts))  # type: ignore"
   ]
  },
  {
   "cell_type": "code",
   "execution_count": null,
   "id": "f567c3f0-2a13-43e8-8ff1-201e2e8987e1",
   "metadata": {
    "tags": []
   },
   "outputs": [],
   "source": [
    "# Cell 3 - Feynman's Full Adder (1985)\n",
    "\n",
    "backend: Any = Aer.get_backend(\"aer_simulator\")\n",
    "qc: Any = QuantumCircuit(4)\n",
    "\n",
    "qc.ccx(0, 1, 3)\n",
    "qc.cx(0, 1)\n",
    "qc.ccx(1, 2, 3)\n",
    "qc.cx(1, 2)\n",
    "qc.measure_all()\n",
    "\n",
    "display(qc.draw(output=\"mpl\", scale=1.5))"
   ]
  },
  {
   "cell_type": "code",
   "execution_count": null,
   "id": "2f772227-99c8-4506-a05d-7271053d95a5",
   "metadata": {
    "tags": []
   },
   "outputs": [],
   "source": [
    "# Cell 4 - Generate truth table for Feynman's Full Adder\n",
    "\n",
    "\n",
    "def full_carry(a: Any, b: Any, c_in: Any) -> Any:\n",
    "    backend: Any = Aer.get_backend(\"aer_simulator\")\n",
    "    qc: Any = QuantumCircuit(4)\n",
    "\n",
    "    # Initialize input qubits to |1> if necessary\n",
    "    if a == 1:\n",
    "        qc.x(0)\n",
    "    if b == 1:\n",
    "        qc.x(1)\n",
    "    if c_in == 1:\n",
    "        qc.x(2)\n",
    "\n",
    "    qc.ccx(0, 1, 3)\n",
    "    qc.cx(0, 1)\n",
    "    qc.ccx(1, 2, 3)\n",
    "    qc.cx(1, 2)\n",
    "    qc.measure_all()\n",
    "\n",
    "    result: Any = execute(qc, backend, shots=1).result()\n",
    "    counts: Any = result.get_counts()\n",
    "\n",
    "    return counts\n",
    "\n",
    "\n",
    "print(\"|c_in| b | a |  |c_out| s |\")\n",
    "print(\"|----|---|---|  |-----|---|\")\n",
    "\n",
    "for c_in in [0, 1]:\n",
    "    for b in [0, 1]:\n",
    "        for a in [0, 1]:\n",
    "            result: list[Any] = list(full_carry(a, b, c_in))[0]\n",
    "            c_out: Any = result[0]  # Qubit 3 in Feynman's Full Adder\n",
    "            s: Any = result[1]  # Qubit 2 in Feynman's Full Adder\n",
    "            print(f\"|  {c_in} | {b} | {a} |  |  {c_out}  | {s} |\")"
   ]
  }
 ],
 "metadata": {
  "kernelspec": {
   "display_name": "Python 3 (ipykernel)",
   "language": "python",
   "name": "python3"
  },
  "language_info": {
   "codemirror_mode": {
    "name": "ipython",
    "version": 3
   },
   "file_extension": ".py",
   "mimetype": "text/x-python",
   "name": "python",
   "nbconvert_exporter": "python",
   "pygments_lexer": "ipython3",
   "version": "3.9.16"
  }
 },
 "nbformat": 4,
 "nbformat_minor": 5
}
