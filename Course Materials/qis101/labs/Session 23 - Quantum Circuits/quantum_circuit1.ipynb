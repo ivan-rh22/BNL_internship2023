{
 "cells": [
  {
   "cell_type": "code",
   "execution_count": null,
   "id": "635e333e-805a-4eb0-a85a-bd5745deaabb",
   "metadata": {},
   "outputs": [],
   "source": [
    "\"\"\"quantum_circuit1.ipynb\"\"\"\n",
    "\n",
    "from __future__ import annotations\n",
    "\n",
    "import typing\n",
    "\n",
    "import numpy as np\n",
    "from qis101_utils import as_latex\n",
    "from qiskit import Aer, QuantumCircuit, execute  # type: ignore\n",
    "from qiskit.visualization import plot_bloch_multivector  # type: ignore\n",
    "from qiskit.visualization import plot_distribution  # type: ignore\n",
    "from qiskit.visualization import plot_state_qsphere  # type: ignore\n",
    "\n",
    "if typing.TYPE_CHECKING:\n",
    "    from typing import Any\n",
    "\n",
    "# Cell 1\n",
    "\n",
    "backend: Any = Aer.get_backend(\"statevector_simulator\")\n",
    "qc: Any = QuantumCircuit(3, 1)\n",
    "\n",
    "# TODO: Implement your circuit here\n",
    "\n",
    "\n",
    "# Do not modify the following code\n",
    "result: Any = execute(qc, backend).result()\n",
    "counts: Any = result.get_counts()\n",
    "\n",
    "sv1: Any = result.data(0)[\"sv1\"]\n",
    "sv2: Any = result.data(0)[\"sv2\"]\n",
    "sv3: Any = result.data(0)[\"sv3\"]\n",
    "sv4: Any = result.data(0)[\"sv4\"]\n",
    "\n",
    "display(qc.draw(output=\"mpl\", scale=1.5))\n",
    "\n",
    "display(as_latex(sv1, prefix=r\"\\mathbf{Statevector\\;1}=\"))\n",
    "display(as_latex(sv2, prefix=r\"\\mathbf{Statevector\\;2}=\"))\n",
    "display(as_latex(sv3, prefix=r\"\\mathbf{Statevector\\;3}=\"))\n",
    "display(as_latex(sv4, prefix=r\"\\mathbf{Statevector\\;4}=\"))\n",
    "\n",
    "display(plot_distribution(counts))  # type: ignore"
   ]
  },
  {
   "cell_type": "code",
   "execution_count": null,
   "id": "5cb9159a-52f8-424c-b682-fa378f4f562d",
   "metadata": {},
   "outputs": [],
   "source": [
    "# Cell 2\n",
    "\n",
    "# 1.) Explain the results shown in Statevector 4\n",
    "# 2.) Explain why is there a 100% chance of measuring only a value of 0 for the single classical bit?"
   ]
  }
 ],
 "metadata": {
  "kernelspec": {
   "display_name": "Python 3 (ipykernel)",
   "language": "python",
   "name": "python3"
  },
  "language_info": {
   "codemirror_mode": {
    "name": "ipython",
    "version": 3
   },
   "file_extension": ".py",
   "mimetype": "text/x-python",
   "name": "python",
   "nbconvert_exporter": "python",
   "pygments_lexer": "ipython3",
   "version": "3.9.16"
  }
 },
 "nbformat": 4,
 "nbformat_minor": 5
}
