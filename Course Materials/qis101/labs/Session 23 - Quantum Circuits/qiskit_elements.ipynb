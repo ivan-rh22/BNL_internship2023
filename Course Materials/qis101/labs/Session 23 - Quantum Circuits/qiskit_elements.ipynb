{
 "cells": [
  {
   "cell_type": "code",
   "execution_count": null,
   "id": "932625ee-31d9-4de8-9194-c9e51031ba85",
   "metadata": {
    "tags": []
   },
   "outputs": [],
   "source": [
    "\"\"\"qiskit_elements.ipynb\"\"\"\n",
    "# Cell 1 - Check qiskit install\n",
    "\n",
    "import qiskit.tools.jupyter\n",
    "\n",
    "%qiskit_version_table"
   ]
  }
 ],
 "metadata": {
  "kernelspec": {
   "display_name": "Python 3 (ipykernel)",
   "language": "python",
   "name": "python3"
  },
  "language_info": {
   "codemirror_mode": {
    "name": "ipython",
    "version": 3
   },
   "file_extension": ".py",
   "mimetype": "text/x-python",
   "name": "python",
   "nbconvert_exporter": "python",
   "pygments_lexer": "ipython3",
   "version": "3.9.16"
  }
 },
 "nbformat": 4,
 "nbformat_minor": 5
}
