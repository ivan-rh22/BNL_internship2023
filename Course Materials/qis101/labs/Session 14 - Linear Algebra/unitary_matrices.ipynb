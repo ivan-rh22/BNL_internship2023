{
 "cells": [
  {
   "cell_type": "code",
   "execution_count": null,
   "metadata": {},
   "outputs": [],
   "source": [
    "\"\"\"unitary_matrices.ipynb\"\"\"\n",
    "\n",
    "# Cell 1 - Generate a random Unitary matrix\n",
    "\n",
    "from __future__ import annotations\n",
    "\n",
    "import typing\n",
    "\n",
    "import numpy as np\n",
    "from IPython.core.display import Math\n",
    "from qis101_utils import as_latex\n",
    "from scipy.stats import unitary_group  # type: ignore\n",
    "\n",
    "if typing.TYPE_CHECKING:\n",
    "    from numpy.typing import NDArray\n",
    "\n",
    "import numpy as np\n",
    "\n",
    "n: int = 3 # number of dimensions in unitary\n",
    "a: NDArray[np.complex_] = unitary_group.rvs(n)  # type: ignore\n",
    "\n",
    "display(as_latex(a, prefix=r\"\\mathbf{A}=\"))  # type: ignore\n",
    "\n",
    "# A unitary matrix dotted with its own adjoint yields the identity matrix\n",
    "t1: NDArray[np.complex_] = np.dot(a.conj().T, a)\n",
    "t2: NDArray[np.complex_] = np.identity(n, dtype=np.complex_)\n",
    "\n",
    "display(\n",
    "    Math(rf\"\\mathbf{{A}}\\;\\mathrm{{unitary}}?\\;\\rightarrow\\;{np.isclose(t1,t2).all()}\")\n",
    ")"
   ]
  }
 ],
 "metadata": {
  "kernelspec": {
   "display_name": "Python 3 (ipykernel)",
   "language": "python",
   "name": "python3"
  },
  "language_info": {
   "codemirror_mode": {
    "name": "ipython",
    "version": 3
   },
   "file_extension": ".py",
   "mimetype": "text/x-python",
   "name": "python",
   "nbconvert_exporter": "python",
   "pygments_lexer": "ipython3",
   "version": "3.9.16"
  }
 },
 "nbformat": 4,
 "nbformat_minor": 4
}
