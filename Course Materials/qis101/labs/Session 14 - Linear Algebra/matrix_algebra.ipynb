{
 "cells": [
  {
   "cell_type": "code",
   "execution_count": null,
   "id": "c4039191-bcff-4b01-93cb-f85f6f6e8995",
   "metadata": {
    "tags": []
   },
   "outputs": [],
   "source": [
    "\"\"\"matrix_algebra.ipynb\"\"\"\n",
    "# Cell 1\n",
    "\n",
    "from __future__ import annotations\n",
    "\n",
    "import typing\n",
    "\n",
    "import numpy as np\n",
    "\n",
    "from qis101_utils import as_latex\n",
    "\n",
    "if typing.TYPE_CHECKING:\n",
    "    from numpy.typing import NDArray\n",
    "\n",
    "\n",
    "def print_ndarray_info(\n",
    "    name: str, a: NDArray[np.int_ | np.float_ | np.complex_]\n",
    ") -> None:\n",
    "    print(f\"Type of {name} is {type(a).__name__}\")\n",
    "    print(f\"Number of dimensions of {name} = {a.ndim}\")\n",
    "    print(f\"Shape of dimensions of {name} = {a.shape}\")\n",
    "    print(f\"Length of {name} = {len(a)}\")\n",
    "    print(f\"Size of {name} = {a.size}\")\n",
    "\n",
    "\n",
    "a: NDArray[np.int_] = np.array([[4, 5, 8], [1, 9, 7]], dtype=np.int_)\n",
    "b: NDArray[np.int_] = np.array([[2, 4], [6, 1], [5, 9]], dtype=np.int_)\n",
    "\n",
    "print_ndarray_info(\"a\", a)\n",
    "display(as_latex(a, prefix=r\"\\mathbf{A}=\"))\n",
    "\n",
    "print_ndarray_info(\"b\", b)\n",
    "display(as_latex(b, prefix=r\"\\mathbf{B}=\"))"
   ]
  },
  {
   "cell_type": "code",
   "execution_count": null,
   "id": "61c5e5af-0340-4863-ae32-a16f58b12713",
   "metadata": {
    "tags": []
   },
   "outputs": [],
   "source": [
    "# Cell 2\n",
    "\n",
    "c = np.matmul(a, b)\n",
    "display(as_latex(c, prefix=r\"\\mathbf{A\\cdot B}=\"))"
   ]
  },
  {
   "cell_type": "code",
   "execution_count": null,
   "id": "fbe91520-3b43-4723-863c-a32a466880f5",
   "metadata": {
    "tags": []
   },
   "outputs": [],
   "source": [
    "# Cell 3\n",
    "\n",
    "c = np.matmul(b, a)\n",
    "display(as_latex(c, prefix=r\"\\mathbf{B\\cdot A}=\"))"
   ]
  },
  {
   "cell_type": "code",
   "execution_count": null,
   "id": "051a0f29-c672-4c65-95cc-b9e7dabbf034",
   "metadata": {
    "tags": []
   },
   "outputs": [],
   "source": [
    "# Cell 4\n",
    "\n",
    "a: NDArray[np.float_] = np.array([[4, 5, 8], [1, 9, 7], [0, 0, 0]], dtype=np.float_)\n",
    "\n",
    "display(as_latex(a, prefix=r\"\\mathbf{A}=\"))\n",
    "display(as_latex(b, prefix=r\"\\mathbf{B}=\"))\n",
    "\n",
    "c = np.matmul(b, a)"
   ]
  },
  {
   "cell_type": "code",
   "execution_count": null,
   "id": "bd31059c-68b6-4d94-afee-9b3d9c5e2a11",
   "metadata": {
    "tags": []
   },
   "outputs": [],
   "source": [
    "# Cell 5\n",
    "from IPython.core.display import Math\n",
    "\n",
    "a: NDArray[np.int_] = np.array([[8, 3], [4, 2]], dtype=np.int_)\n",
    "display(as_latex(a, prefix=r\"\\mathbf{A}=\"))\n",
    "\n",
    "display(Math(rf\"|A|={np.linalg.det(a)}\"))\n",
    "display(Math(rf\"|A|={np.round(np.linalg.det(a))}\"))"
   ]
  },
  {
   "cell_type": "code",
   "execution_count": null,
   "id": "fd99e63a-2279-4d23-a2d7-65d81b89b2b9",
   "metadata": {
    "tags": []
   },
   "outputs": [],
   "source": [
    "# Cell 6\n",
    "\n",
    "a: NDArray[np.int_] = np.array(\n",
    "    [\n",
    "        [3, 4, 9, 8, -5, -2, 2, 7, 7, 4],\n",
    "        [6, -10, -10, -10, -6, -10, 1, 0, -4, -5],\n",
    "        [-4, -4, -4, 8, -5, 9, 4, 0, -4, 9],\n",
    "        [-4, 6, -5, 8, 0, 3, 1, -4, -6, -6],\n",
    "        [-6, -9, 9, 9, -2, 9, -5, -2, -2, -3],\n",
    "        [-8, 0, 0, 0, 10, -3, 5, 0, -4, 9],\n",
    "        [8, 4, 8, -9, 4, 8, -6, 1, 9, 2],\n",
    "        [2, 1, -1, 4, -6, -10, 1, -6, 6, 7],\n",
    "        [-6, -5, 4, -6, -5, -6, -10, -1, -2, 7],\n",
    "        [1, 10, -10, -4, -8, 7, 5, -1, 6, -6],\n",
    "    ],\n",
    "    dtype=np.int_,\n",
    ")\n",
    "\n",
    "display(as_latex(a, prefix=r\"\\mathbf{A}=\"))\n",
    "\n",
    "display(Math(rf\"|A|={np.linalg.det(a):,}\"))\n",
    "display(Math(rf\"|A|={np.linalg.det(a):,.0f}\"))"
   ]
  },
  {
   "cell_type": "code",
   "execution_count": null,
   "id": "25ee7830-ff20-44ab-ab90-c0b4a5981973",
   "metadata": {
    "tags": []
   },
   "outputs": [],
   "source": [
    "# Cell 7\n",
    "\n",
    "coeffs: NDArray[np.int_] = np.array([[4, 5, -2], [7, -1, 2], [3, 1, 4]], dtype=np.int_)\n",
    "vals: NDArray[np.int_] = np.array([-14, 42, 28], dtype=np.int_)\n",
    "\n",
    "display(as_latex(coeffs, prefix=r\"\\mathbf{Coeffs}=\"))\n",
    "display(as_latex(vals, prefix=r\"\\mathbf{Vals}=\"))"
   ]
  },
  {
   "cell_type": "code",
   "execution_count": null,
   "id": "310b226e-c9c9-4f37-9068-298c601065c2",
   "metadata": {
    "tags": []
   },
   "outputs": [],
   "source": [
    "# Cell 8\n",
    "\n",
    "# Calculate determinant of coefficients matrix\n",
    "det_coeffs: NDArray[np.float_] = np.linalg.det(coeffs)\n",
    "\n",
    "# Overlay value vector on each column of the coeffs matrix\n",
    "xa: NDArray[np.float_] = np.copy(coeffs)\n",
    "xa[:, 0] = vals\n",
    "det_xa: float = np.linalg.det(xa)\n",
    "\n",
    "ya: NDArray[np.float_] = np.copy(coeffs)\n",
    "ya[:, 1] = vals\n",
    "det_ya: float = np.linalg.det(ya)\n",
    "\n",
    "za: NDArray[np.float_] = np.copy(coeffs)\n",
    "za[:, 2] = vals\n",
    "det_za: float = np.linalg.det(za)\n",
    "\n",
    "# Use Cramer's rule to solve 3 x 3 system of linear equations\n",
    "x: NDArray[np.float_] = det_xa / det_coeffs\n",
    "y: NDArray[np.float_] = det_ya / det_coeffs\n",
    "z: NDArray[np.float_] = det_za / det_coeffs\n",
    "\n",
    "display(Math(rf\"x={x:,.0f}\"))\n",
    "display(Math(rf\"y={y:,.0f}\"))\n",
    "display(Math(rf\"z={z:,.0f}\"))"
   ]
  },
  {
   "cell_type": "code",
   "execution_count": null,
   "id": "b3d40842-483f-49ca-99b5-ebdd1b8602ee",
   "metadata": {
    "tags": []
   },
   "outputs": [],
   "source": [
    "# Cell 9\n",
    "\n",
    "# Use numpy's linear algebra solver\n",
    "sol: NDArray[np.float_] = np.linalg.solve(coeffs, vals)\n",
    "\n",
    "display(as_latex(sol, column=True))"
   ]
  }
 ],
 "metadata": {
  "kernelspec": {
   "display_name": "Python 3 (ipykernel)",
   "language": "python",
   "name": "python3"
  },
  "language_info": {
   "codemirror_mode": {
    "name": "ipython",
    "version": 3
   },
   "file_extension": ".py",
   "mimetype": "text/x-python",
   "name": "python",
   "nbconvert_exporter": "python",
   "pygments_lexer": "ipython3",
   "version": "3.9.16"
  }
 },
 "nbformat": 4,
 "nbformat_minor": 5
}
