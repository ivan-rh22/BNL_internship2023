{
 "cells": [
  {
   "cell_type": "code",
   "execution_count": null,
   "id": "ab9b1527-5840-4e66-b9d8-e7fb8be5a316",
   "metadata": {
    "tags": []
   },
   "outputs": [],
   "source": [
    "\"\"\"qiskit_runtime.ipynb\"\"\"\n",
    "\n",
    "from pathlib import Path\n",
    "\n",
    "from qiskit_ibm_runtime import QiskitRuntimeService\n",
    "\n",
    "# Cell 1 - Save IBM API Token\n",
    "\n",
    "my_api_token = \"_your_api_key_goes_here_\"\n",
    "\n",
    "# Saves your IBM Quantum credential to $HOME/.qiskit/qiskit-ibm.json\n",
    "QiskitRuntimeService.save_account(\n",
    "    channel=\"ibm_quantum\",\n",
    "    token=my_api_token,\n",
    "    overwrite=True,\n",
    ")\n",
    "\n",
    "# Verify credential file was created\n",
    "credential_file = open(Path.home() / \".qiskit\" / \"qiskit-ibm.json\", \"r\").read()\n",
    "print(credential_file)"
   ]
  },
  {
   "cell_type": "code",
   "execution_count": null,
   "id": "b3e6084a-61b2-4457-ba00-0a16084039ce",
   "metadata": {},
   "outputs": [],
   "source": [
    "# Cell 2 - Display available primitives\n",
    "from qiskit_ibm_runtime import QiskitRuntimeService\n",
    "\n",
    "service = QiskitRuntimeService(channel=\"ibm_quantum\")\n",
    "service.pprint_programs()"
   ]
  },
  {
   "cell_type": "code",
   "execution_count": null,
   "id": "6a35844c-d6d3-4a39-8156-7e4c15e8117a",
   "metadata": {},
   "outputs": [],
   "source": [
    "# Cell 3 - Run a test reference job\n",
    "from qiskit_ibm_runtime import QiskitRuntimeService\n",
    "\n",
    "service = QiskitRuntimeService(channel=\"ibm_quantum\")\n",
    "program_inputs = {\"iterations\": 1}\n",
    "options = {\"backend\": \"ibmq_qasm_simulator\"}\n",
    "job = service.run(program_id=\"hello-world\", options=options, inputs=program_inputs)\n",
    "\n",
    "print(job.status())\n",
    "print(f\"job id: {job.job_id()}\")\n",
    "\n",
    "result = job.result()\n",
    "print(result)"
   ]
  },
  {
   "cell_type": "code",
   "execution_count": null,
   "id": "1a491ba7-7c31-4a68-9a8c-4a4d2468c34d",
   "metadata": {},
   "outputs": [],
   "source": [
    "# Cell 4 - Display available backends\n",
    "from qiskit_ibm_runtime import QiskitRuntimeService\n",
    "\n",
    "for backend in service.backends(simulator=False, operational=True):\n",
    "    config = backend.configuration()\n",
    "    print(\n",
    "        f\"{config.backend_name:15}: Qubits = {config.n_qubits}: Gates = {config.basis_gates}\"\n",
    "    )"
   ]
  },
  {
   "cell_type": "code",
   "execution_count": null,
   "id": "c159fd22-82e5-4045-b052-c1e28b9dfec2",
   "metadata": {},
   "outputs": [],
   "source": [
    "# Cell 5 - Run a test circuit on a real backend\n",
    "\n",
    "from qiskit import QuantumCircuit\n",
    "from qiskit_ibm_runtime import Options, QiskitRuntimeService, Sampler, Session\n",
    "\n",
    "# Create circuit\n",
    "qc = QuantumCircuit(2)\n",
    "qc.h(0)\n",
    "qc.cx(0, 1)\n",
    "qc.measure_all()\n",
    "\n",
    "display(qc.draw(\"mpl\"))\n",
    "\n",
    "service = QiskitRuntimeService(channel=\"ibm_quantum\")\n",
    "backend = service.backend(\"ibmq_belem\")\n",
    "\n",
    "options = Options()\n",
    "options.optimization_level = 3  # adds dynamical decoupling\n",
    "options.resilience_level = 1  # adds readout error mitigation\n",
    "options.execution.shots = 1024\n",
    "\n",
    "sampler = Sampler(session=backend, options=options)\n",
    "job = sampler.run(qc)\n",
    "print(f\">>> Job ID: {job.job_id()}\")\n",
    "print(f\">>> Job Status: {job.status()}\")\n",
    "\n",
    "result = job.result()\n",
    "print(f\">>> {result}\")\n",
    "print(f\"  > Quasi-distribution: {result.quasi_dists[0]}\")\n",
    "print(f\"  > Metadata: {result.metadata[0]}\")"
   ]
  },
  {
   "cell_type": "code",
   "execution_count": null,
   "id": "be9a2226-97a4-455e-9b05-c3bb514b163e",
   "metadata": {},
   "outputs": [],
   "source": [
    "# Cell 6 - Plot results\n",
    "\n",
    "from qiskit.tools.visualization import plot_histogram\n",
    "\n",
    "plot_histogram(result.quasi_dists)"
   ]
  }
 ],
 "metadata": {
  "kernelspec": {
   "display_name": "Python 3 (ipykernel)",
   "language": "python",
   "name": "python3"
  },
  "language_info": {
   "codemirror_mode": {
    "name": "ipython",
    "version": 3
   },
   "file_extension": ".py",
   "mimetype": "text/x-python",
   "name": "python",
   "nbconvert_exporter": "python",
   "pygments_lexer": "ipython3",
   "version": "3.9.16"
  }
 },
 "nbformat": 4,
 "nbformat_minor": 5
}
