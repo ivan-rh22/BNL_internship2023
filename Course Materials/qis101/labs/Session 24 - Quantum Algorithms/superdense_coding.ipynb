{
 "cells": [
  {
   "cell_type": "code",
   "execution_count": null,
   "id": "6d0fa5bb-791e-4b0c-9ffd-3ca0b834f39c",
   "metadata": {
    "tags": []
   },
   "outputs": [],
   "source": [
    "\"\"\"superdense_coding.ipynb\"\"\"\n",
    "\n",
    "from __future__ import annotations\n",
    "\n",
    "import typing\n",
    "\n",
    "import numpy as np\n",
    "from IPython.core.display import Math\n",
    "from qis101_utils import as_latex\n",
    "from qiskit import Aer, QuantumCircuit, execute  # type: ignore\n",
    "from qiskit.visualization import plot_bloch_multivector  # type: ignore\n",
    "from qiskit.visualization import plot_distribution  # type: ignore\n",
    "from qiskit.visualization import plot_state_qsphere  # type: ignore\n",
    "\n",
    "if typing.TYPE_CHECKING:\n",
    "    from typing import Any\n",
    "\n",
    "# Cell 1 - Encode two classical bits into one qubit\n",
    "\n",
    "def superdense_coding(a: int, b: int) -> None:\n",
    "    backend: Any = Aer.get_backend(\"statevector_simulator\")\n",
    "    qc: Any = QuantumCircuit(2, 2)\n",
    "\n",
    "    qc.h(0)\n",
    "    qc.cx(0, 1)\n",
    "    qc.save_statevector(\"sv1\")\n",
    "\n",
    "    if a == 0 and b == 0:\n",
    "        qc.i(0)\n",
    "    if b == 1:\n",
    "        qc.z(0)\n",
    "    if a == 1:\n",
    "        qc.x(0)\n",
    "    qc.save_statevector(\"sv2\")\n",
    "\n",
    "    qc.cx(0, 1)\n",
    "    qc.h(0)\n",
    "    qc.save_statevector(\"sv3\")\n",
    "    qc.measure(0, 0)\n",
    "    qc.measure(1, 1)\n",
    "\n",
    "    result: Any = execute(qc, backend).result()\n",
    "    counts: Any = result.get_counts()\n",
    "    sv1: Any = result.data(0)[\"sv1\"]\n",
    "    sv2: Any = result.data(0)[\"sv2\"]\n",
    "    sv3: Any = result.data(0)[\"sv3\"]\n",
    "\n",
    "    display(Math((rf\"\\large\\mathbf{{a={a},b={b}}}\")))\n",
    "    display(qc.draw(output=\"mpl\", scale=1.5))\n",
    "    display(as_latex(sv1, prefix=r\"\\mathbf{Statevector\\;1}=\"))\n",
    "    display(as_latex(sv2, prefix=r\"\\mathbf{Statevector\\;2}=\"))\n",
    "    display(as_latex(sv3, prefix=r\"\\mathbf{Statevector\\;3}=\"))\n",
    "    display(plot_distribution(counts))  # type: ignore\n",
    "\n",
    "\n",
    "a: int\n",
    "b: int\n",
    "for a in [0, 1]:\n",
    "    for b in [0, 1]:\n",
    "        superdense_coding(a, b)"
   ]
  }
 ],
 "metadata": {
  "kernelspec": {
   "display_name": "Python 3 (ipykernel)",
   "language": "python",
   "name": "python3"
  },
  "language_info": {
   "codemirror_mode": {
    "name": "ipython",
    "version": 3
   },
   "file_extension": ".py",
   "mimetype": "text/x-python",
   "name": "python",
   "nbconvert_exporter": "python",
   "pygments_lexer": "ipython3",
   "version": "3.9.16"
  }
 },
 "nbformat": 4,
 "nbformat_minor": 5
}
