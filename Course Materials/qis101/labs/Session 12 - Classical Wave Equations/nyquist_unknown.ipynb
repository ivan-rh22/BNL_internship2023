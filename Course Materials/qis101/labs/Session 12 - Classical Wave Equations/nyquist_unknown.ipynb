{
 "cells": [
  {
   "cell_type": "code",
   "execution_count": null,
   "id": "96d0dfb4-d5b8-47b8-8716-f125ce26d489",
   "metadata": {
    "tags": []
   },
   "outputs": [],
   "source": [
    "\"\"\"nyquist_unknown.ipynb\"\"\"\n",
    "# Cell 1\n",
    "\n",
    "from __future__ import annotations\n",
    "\n",
    "import typing\n",
    "\n",
    "import matplotlib.pyplot as plt\n",
    "import numpy as np\n",
    "from matplotlib.ticker import AutoMinorLocator\n",
    "\n",
    "if typing.TYPE_CHECKING:\n",
    "    from matplotlib.axes import Axes\n",
    "    from numpy.typing import NDArray\n",
    "\n",
    "%matplotlib widget\n",
    "\n",
    "# fmt: off\n",
    "def f(x: NDArray[np.float_]) -> NDArray[np.float_]:\n",
    "    return np.array(\n",
    "        np.sin(4 * np.pi * x) * np.sin(6 * np.pi * x) *\n",
    "        np.sin(10 * np.pi * x) * np.sin(14 * np.pi * x))\n",
    "# fmt: on\n",
    "\n",
    "\n",
    "def plot(ax: Axes, num_samples: int) -> None:\n",
    "    a: int = 0\n",
    "    b: int = 210\n",
    "\n",
    "    x: NDArray[np.float_] = np.linspace(a, b, num_samples + 1)\n",
    "    y: NDArray[np.float_] = f(x)\n",
    "\n",
    "    ax.set_title(f\"Unknown Waveform ({num_samples} samples)\")\n",
    "    ax.set_xlabel(\"x\")\n",
    "    ax.set_ylabel(\"y\")\n",
    "    ax.set_ylim(-1.1, 1.2)\n",
    "\n",
    "    ax.axhline(y=0.0, color=\"lightgray\")\n",
    "\n",
    "    # fmt: off\n",
    "    ax.plot(x, y, color=\"blue\", linestyle=\"solid\",\n",
    "            marker=\"o\", markerfacecolor=\"red\",\n",
    "            markersize=2, markeredgecolor=\"red\")\n",
    "    # fmt: on\n",
    "\n",
    "    ax.xaxis.set_minor_locator(AutoMinorLocator())\n",
    "    ax.yaxis.set_minor_locator(AutoMinorLocator())\n",
    "\n",
    "\n",
    "def plot_samples(num_samples: int) -> None:\n",
    "    plt.close(\"all\")\n",
    "    plt.figure(\" \")\n",
    "    plot(plt.axes(), num_samples)\n",
    "    plt.show()\n",
    "\n",
    "\n",
    "plot_samples(num_samples=420)"
   ]
  },
  {
   "cell_type": "code",
   "execution_count": null,
   "id": "61b6277d-39a8-4b36-9480-fd4990f268f6",
   "metadata": {
    "tags": []
   },
   "outputs": [],
   "source": [
    "# Cell 2\n",
    "\n",
    "plot_samples(num_samples=2940)"
   ]
  },
  {
   "cell_type": "code",
   "execution_count": null,
   "id": "8316f6ce-8c1c-43b0-8015-8688d3a7a506",
   "metadata": {
    "tags": []
   },
   "outputs": [],
   "source": [
    "# Cell 3\n",
    "\n",
    "plot_samples(num_samples=2939)"
   ]
  }
 ],
 "metadata": {
  "kernelspec": {
   "display_name": "Python 3 (ipykernel)",
   "language": "python",
   "name": "python3"
  },
  "language_info": {
   "codemirror_mode": {
    "name": "ipython",
    "version": 3
   },
   "file_extension": ".py",
   "mimetype": "text/x-python",
   "name": "python",
   "nbconvert_exporter": "python",
   "pygments_lexer": "ipython3",
   "version": "3.9.16"
  }
 },
 "nbformat": 4,
 "nbformat_minor": 5
}
