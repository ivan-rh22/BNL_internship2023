{
 "cells": [
  {
   "cell_type": "code",
   "execution_count": null,
   "id": "1959ba3d-f0fb-412d-9d7b-8a0a71aa9318",
   "metadata": {
    "tags": []
   },
   "outputs": [],
   "source": [
    "\"\"\"travelling_waves.ipynb\"\"\"\n",
    "# Cell 1\n",
    "\n",
    "from __future__ import annotations\n",
    "\n",
    "import typing\n",
    "\n",
    "import matplotlib.pyplot as plt\n",
    "import numpy as np\n",
    "from matplotlib.animation import FuncAnimation\n",
    "\n",
    "if typing.TYPE_CHECKING:\n",
    "    from typing import Generator\n",
    "\n",
    "    from matplotlib.axes import Axes\n",
    "    from matplotlib.lines import Line2D\n",
    "    from numpy.typing import NDArray\n",
    "\n",
    "%matplotlib widget\n",
    "\n",
    "xa: NDArray[np.float_]\n",
    "\n",
    "wave1: Line2D\n",
    "wave2: Line2D\n",
    "wave3: Line2D\n",
    "\n",
    "\n",
    "class WaveParams(typing.NamedTuple):\n",
    "    Amplitude: float\n",
    "    WaveNumber: float\n",
    "    Omega: float\n",
    "\n",
    "\n",
    "wave1_params: WaveParams = WaveParams(Amplitude=1, WaveNumber=1, Omega=1 / 16)\n",
    "wave2_params: WaveParams = WaveParams(Amplitude=0, WaveNumber=0, Omega=0)\n",
    "\n",
    "\n",
    "def plot(ax: Axes, show_waves: bool) -> None:\n",
    "    global xa, wave1, wave2, wave3\n",
    "\n",
    "    xa = np.linspace(0, 6 * np.pi, 600)\n",
    "\n",
    "    ya1: NDArray[np.float_] = wave1_params.Amplitude * np.sin(\n",
    "        wave1_params.WaveNumber * xa\n",
    "    )\n",
    "    ya2: NDArray[np.float_] = wave2_params.Amplitude * np.sin(\n",
    "        wave2_params.WaveNumber * xa\n",
    "    )\n",
    "    ya3: NDArray[np.float_] = (ya1 + ya2) / 2\n",
    "\n",
    "    if show_waves:\n",
    "        (wave1,) = ax.plot(xa, ya1, color=\"blue\", label=\"wave 1\")\n",
    "        (wave2,) = ax.plot(xa, ya2, color=\"red\", label=\"wave 2\")\n",
    "    else:\n",
    "        (wave1,) = ax.plot(xa, ya1, color=\"white\")\n",
    "        (wave2,) = ax.plot(xa, ya2, color=\"white\")\n",
    "\n",
    "    # Plot the superposition of wave1 and wave2\n",
    "    (wave3,) = ax.plot(xa, ya3, color=\"black\", label=\"sum\")\n",
    "\n",
    "    ax.set_title(\"Travelling Waves\")\n",
    "    ax.set_xlabel(\"Location\")\n",
    "    ax.set_ylabel(\"Amplitude\")\n",
    "\n",
    "    ax.legend(loc=\"upper right\")\n",
    "\n",
    "\n",
    "def anim_frame_counter() -> Generator[int, None, None]:\n",
    "    n = 0\n",
    "    # 160 frames = 4 secs (at 40 frames/sec)\n",
    "    while n < 160:\n",
    "        n += 1\n",
    "        yield n\n",
    "\n",
    "\n",
    "def anim_draw_frame(t: float) -> tuple[Line2D, Line2D, Line2D]:\n",
    "    ya1: NDArray[np.float_] = wave1_params.Amplitude * np.sin(\n",
    "        wave1_params.WaveNumber * xa + wave1_params.Omega * t\n",
    "    )\n",
    "    wave1.set_data(xa, ya1)\n",
    "    ya2: NDArray[np.float_] = wave2_params.Amplitude * np.sin(\n",
    "        wave2_params.WaveNumber * xa + wave2_params.Omega * t\n",
    "    )\n",
    "    wave2.set_data(xa, ya2)\n",
    "    ya3: NDArray[np.float_] = (ya1 + ya2) / 2\n",
    "    wave3.set_data(xa, ya3)\n",
    "    return wave1, wave2, wave3\n",
    "\n",
    "\n",
    "def plot_waves(label: str, show_waves: bool) -> None:\n",
    "    global anim\n",
    "\n",
    "    plt.close(\"all\")\n",
    "    plt.figure(\" \")\n",
    "    ax: Axes = plt.axes()\n",
    "    plot(ax, show_waves)\n",
    "\n",
    "    anim = FuncAnimation(\n",
    "        ax.figure,\n",
    "        anim_draw_frame,\n",
    "        anim_frame_counter,\n",
    "        interval=25,\n",
    "        blit=True,\n",
    "        repeat=False,\n",
    "        cache_frame_data=False,\n",
    "    )\n",
    "\n",
    "    plt.show()\n",
    "\n",
    "\n",
    "plot_waves(\"Cell 1\", show_waves=True)"
   ]
  },
  {
   "cell_type": "code",
   "execution_count": null,
   "id": "39a49646-0a1a-439d-b5ff-56f84c5adfb2",
   "metadata": {
    "tags": []
   },
   "outputs": [],
   "source": [
    "# Cell 2 - Wave 2 now half amplitude, same wave number, same wave velocity\n",
    "\n",
    "wave1_params: WaveParams = WaveParams(Amplitude=1, WaveNumber=1, Omega=1 / 16)\n",
    "wave2_params: WaveParams = WaveParams(Amplitude=1 / 2, WaveNumber=1, Omega=1 / 16)\n",
    "plot_waves(\"Cell 2\", show_waves=True)"
   ]
  },
  {
   "cell_type": "code",
   "execution_count": null,
   "id": "bb689508-f579-49f5-a5ee-b7fd73c861f2",
   "metadata": {
    "tags": []
   },
   "outputs": [],
   "source": [
    "# Cell 3 - Wave 2 now same amplitude, half wave number, same wave velocity\n",
    "\n",
    "wave1_params: WaveParams = WaveParams(Amplitude=1, WaveNumber=1, Omega=1 / 16)\n",
    "wave2_params: WaveParams = WaveParams(Amplitude=1, WaveNumber=1 / 2, Omega=1 / 16)\n",
    "plot_waves(\"Cell 3\", show_waves=True)"
   ]
  },
  {
   "cell_type": "code",
   "execution_count": null,
   "id": "3ae7eb20-0991-48cd-9a98-926e52680e1e",
   "metadata": {
    "tags": []
   },
   "outputs": [],
   "source": [
    "# Cell 4 - Wave 2 now same amplitude, same wave number, half wave velocity\n",
    "\n",
    "wave1_params: WaveParams = WaveParams(Amplitude=1, WaveNumber=1, Omega=1 / 16)\n",
    "wave2_params: WaveParams = WaveParams(Amplitude=1, WaveNumber=1, Omega=1 / 8)\n",
    "plot_waves(\"Cell 4\", show_waves=True)"
   ]
  },
  {
   "cell_type": "code",
   "execution_count": null,
   "id": "a8e95298-47da-4771-aaf0-3f5c4e5a0e4d",
   "metadata": {
    "tags": []
   },
   "outputs": [],
   "source": [
    "# Cell 5 - Wave 2 now same amplitude, same wave number, *negative* half wave velocity\n",
    "\n",
    "wave1_params: WaveParams = WaveParams(Amplitude=1, WaveNumber=1, Omega=1 / 16)\n",
    "wave2_params: WaveParams = WaveParams(Amplitude=1, WaveNumber=1, Omega=-1 / 8)\n",
    "plot_waves(\"Cell 5\", show_waves=True)"
   ]
  },
  {
   "cell_type": "code",
   "execution_count": null,
   "id": "66ef7587-c637-4ec8-a477-92efb3223722",
   "metadata": {
    "tags": []
   },
   "outputs": [],
   "source": [
    "# Cell 6 - Wave 2 now same amplitude, same wave number, *negative* wave velocity\n",
    "\n",
    "wave1_params: WaveParams = WaveParams(Amplitude=1, WaveNumber=1, Omega=1 / 16)\n",
    "wave2_params: WaveParams = WaveParams(Amplitude=1, WaveNumber=1, Omega=-1 / 16)\n",
    "plot_waves(\"Cell 6\", show_waves=True)"
   ]
  },
  {
   "cell_type": "code",
   "execution_count": null,
   "id": "8c64a701-d0e5-4c5b-83ff-8c25c0f9389a",
   "metadata": {
    "tags": []
   },
   "outputs": [],
   "source": [
    "# Cell 7 - Wave 2 now same amplitude, same wave number, *negative* wave velocity\n",
    "\n",
    "plot_waves(\"Cell 7\", show_waves=False)  # Show only superposition wave"
   ]
  }
 ],
 "metadata": {
  "kernelspec": {
   "display_name": "Python 3 (ipykernel)",
   "language": "python",
   "name": "python3"
  },
  "language_info": {
   "codemirror_mode": {
    "name": "ipython",
    "version": 3
   },
   "file_extension": ".py",
   "mimetype": "text/x-python",
   "name": "python",
   "nbconvert_exporter": "python",
   "pygments_lexer": "ipython3",
   "version": "3.9.16"
  }
 },
 "nbformat": 4,
 "nbformat_minor": 5
}
