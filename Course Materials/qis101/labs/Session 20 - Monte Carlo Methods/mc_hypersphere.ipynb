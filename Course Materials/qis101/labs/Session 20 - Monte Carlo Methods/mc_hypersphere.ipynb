{
 "cells": [
  {
   "cell_type": "code",
   "execution_count": null,
   "id": "db9284d4-7e59-4837-aabb-4c71fd6a437f",
   "metadata": {
    "tags": []
   },
   "outputs": [],
   "source": [
    "\"\"\"mc_hypersphere.ipynb\"\"\"\n",
    "# Cell 1\n",
    "\n",
    "from __future__ import annotations\n",
    "\n",
    "import typing\n",
    "\n",
    "import numpy as np\n",
    "from IPython.display import HTML, display\n",
    "from numba import float64, int32, vectorize  # type: ignore\n",
    "\n",
    "if typing.TYPE_CHECKING:\n",
    "    from numpy.typing import NDArray\n",
    "\n",
    "\n",
    "@vectorize([float64(float64, float64)], nopython=True)  # type: ignore\n",
    "def halton(n: float, p: int) -> float:\n",
    "    h = 0\n",
    "    f = 1\n",
    "    while n > 0:\n",
    "        f: float = f / p\n",
    "        h += (n % p) * f\n",
    "        n = int(n / p)\n",
    "    return h\n",
    "\n",
    "\n",
    "def main() -> None:\n",
    "    iterations = 6_250_000\n",
    "\n",
    "    display(HTML(f\"<p>Testing {iterations:,} dots . . .</p>\"))\n",
    "\n",
    "    primes: list[int] = [2, 3, 5, 7]\n",
    "\n",
    "    x: NDArray[np.float_] = halton(np.arange(iterations), primes[0]) * 2 - 1  # type: ignore\n",
    "    y: NDArray[np.float_] = halton(np.arange(iterations), primes[1]) * 2 - 1  # type: ignore\n",
    "    z: NDArray[np.float_] = halton(np.arange(iterations), primes[2]) * 2 - 1  # type: ignore\n",
    "    w: NDArray[np.float_] = halton(np.arange(iterations), primes[3]) * 2 - 1  # type: ignore\n",
    "\n",
    "    d: NDArray[np.float_] = x**2 + y**2 + z**2 + w**2\n",
    "\n",
    "    est_volume: float = np.count_nonzero(d <= 1.0) / iterations * 16\n",
    "\n",
    "    act_volume: float = np.pi**2 / 2.0\n",
    "    err: float = (est_volume - act_volume) / act_volume\n",
    "\n",
    "    display(\n",
    "        HTML(\n",
    "            (\n",
    "                f\"<p>Act. Volume  = {act_volume:.6f}</p>\"\n",
    "                f\"<p>Est. Volume  = {est_volume:.6f}</p>\"\n",
    "                f\"<p>% Rel Err    = {err:.6%}</p>\"\n",
    "            )\n",
    "        )\n",
    "    )\n",
    "\n",
    "\n",
    "main()"
   ]
  }
 ],
 "metadata": {
  "kernelspec": {
   "display_name": "Python 3 (ipykernel)",
   "language": "python",
   "name": "python3"
  },
  "language_info": {
   "codemirror_mode": {
    "name": "ipython",
    "version": 3
   },
   "file_extension": ".py",
   "mimetype": "text/x-python",
   "name": "python",
   "nbconvert_exporter": "python",
   "pygments_lexer": "ipython3",
   "version": "3.9.16"
  }
 },
 "nbformat": 4,
 "nbformat_minor": 5
}
