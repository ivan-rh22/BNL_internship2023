{
 "cells": [
  {
   "cell_type": "code",
   "execution_count": 1,
   "metadata": {},
   "outputs": [
    {
     "data": {
      "text/latex": [
       "$\\displaystyle {i!} = 0.4980-0.1549j$"
      ],
      "text/plain": [
       "<IPython.core.display.Math object>"
      ]
     },
     "metadata": {},
     "output_type": "display_data"
    }
   ],
   "source": [
    "\"\"\"complex_factorial.ipynb\"\"\"\n",
    "# Cell 1\n",
    "\n",
    "# Code is annotated from Dr. David Biersach's solution\n",
    "\n",
    "# IMPORTS\n",
    "import numpy as np\n",
    "import scipy.integrate\n",
    "from IPython.core.display import Math\n",
    "\n",
    "def f(x: float) -> float:\n",
    "    \"\"\"\n",
    "    Calculates the value of exp(-x) * cos(log(x))\n",
    "\n",
    "    Args:\n",
    "        x: input float value\n",
    "    Return:\n",
    "        calculated value of exp(-x) * cos(log(x)) as float value\n",
    "    \"\"\"\n",
    "    return np.exp(-x) * np.cos(np.log(x))\n",
    "\n",
    "def g(x: float) -> float:\n",
    "    \"\"\"\n",
    "    Calculates the value of exp(-x) * sin(log(x))\n",
    "\n",
    "    Args:\n",
    "        x: input float value\n",
    "    Return:\n",
    "        calculated value of exp(-x) * sin(log(x)) as float value\n",
    "    \"\"\"\n",
    "    return np.exp(-x) * np.sin(np.log(x))\n",
    "\n",
    "integral_f: float = scipy.integrate.quad(f, 0, 1_000)[0]\n",
    "integral_g: float = scipy.integrate.quad(g, 0, 1_000)[0]\n",
    "\n",
    "factorial = complex(integral_f, integral_g)\n",
    "\n",
    "display(Math(rf\"${{i!}} = {factorial:.4f}$\"))\n"
   ]
  }
 ],
 "metadata": {
  "kernelspec": {
   "display_name": "qis101",
   "language": "python",
   "name": "python3"
  },
  "language_info": {
   "codemirror_mode": {
    "name": "ipython",
    "version": 3
   },
   "file_extension": ".py",
   "mimetype": "text/x-python",
   "name": "python",
   "nbconvert_exporter": "python",
   "pygments_lexer": "ipython3",
   "version": "3.9.16"
  },
  "orig_nbformat": 4
 },
 "nbformat": 4,
 "nbformat_minor": 2
}
