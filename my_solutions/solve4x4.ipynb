{
 "cells": [
  {
   "cell_type": "code",
   "execution_count": 1,
   "id": "c4039191-bcff-4b01-93cb-f85f6f6e8995",
   "metadata": {
    "tags": []
   },
   "outputs": [
    {
     "data": {
      "text/latex": [
       "$\\displaystyle \\large\\mathbf{Coefficient\\;Matrix}=\\begin{bmatrix}1 &2 &1 &-1\\\\[1em]3 &2 &4 &4\\\\[1em]4 &4 &3 &4\\\\[1em]2 &0 &1 &5\\\\\\end{bmatrix}$"
      ],
      "text/plain": [
       "<IPython.core.display.Math object>"
      ]
     },
     "metadata": {},
     "output_type": "display_data"
    },
    {
     "data": {
      "text/latex": [
       "$\\displaystyle \\large\\mathbf{Values\\;Vector}=\\begin{bmatrix}5 &16 &22 &15\\\\\\end{bmatrix}$"
      ],
      "text/plain": [
       "<IPython.core.display.Math object>"
      ]
     },
     "metadata": {},
     "output_type": "display_data"
    },
    {
     "data": {
      "text/latex": [
       "$\\displaystyle \\large\\mathbf{Solution\\;Vector}=\\begin{bmatrix}16\\\\[1em]-6\\\\[1em]-2\\\\[1em]-3\\\\\\end{bmatrix}$"
      ],
      "text/plain": [
       "<IPython.core.display.Math object>"
      ]
     },
     "metadata": {},
     "output_type": "display_data"
    }
   ],
   "source": [
    "\"\"\"solve4x4.ipynb\"\"\"\n",
    "# Cell 1\n",
    "\n",
    "from __future__ import annotations\n",
    "\n",
    "import typing\n",
    "\n",
    "import numpy as np\n",
    "from IPython.core.display import Math\n",
    "from qis101_utils import as_latex\n",
    "\n",
    "if typing.TYPE_CHECKING:\n",
    "    from numpy.typing import NDArray\n",
    "\n",
    "# TODO: Add your code below this\n",
    "# fmt: off\n",
    "# Given system of equations\n",
    "coeffs: NDArray[np.int_] = np.array(\n",
    "    [\n",
    "        [1, 2, 1, -1],\n",
    "        [3, 2, 4, 4],\n",
    "        [4, 4, 3, 4],\n",
    "        [2, 0, 1, 5]\n",
    "    ], dtype=np.int_\n",
    ")\n",
    "# fmt: on\n",
    "# Values for the matrix (Values Vector)\n",
    "vals: NDArray[np.int_] = np.array([5, 16, 22, 15], dtype=np.int_)\n",
    "\n",
    "# Result (uses numpy tools ot solve matrix)\n",
    "sol: NDArray[np.float_] = np.linalg.solve(coeffs, vals)\n",
    "\n",
    "# Uses qis101_utils to display coefficients matrix, values vector, and solution vector\n",
    "display(as_latex(coeffs, prefix=r\"\\mathbf{Coefficient\\;Matrix}=\"))\n",
    "display(as_latex(vals, prefix=r\"\\mathbf{Values\\;Vector}=\"))\n",
    "display(as_latex(sol, prefix=r\"\\mathbf{Solution\\;Vector}=\", column=True))"
   ]
  }
 ],
 "metadata": {
  "kernelspec": {
   "display_name": "Python 3 (ipykernel)",
   "language": "python",
   "name": "python3"
  },
  "language_info": {
   "codemirror_mode": {
    "name": "ipython",
    "version": 3
   },
   "file_extension": ".py",
   "mimetype": "text/x-python",
   "name": "python",
   "nbconvert_exporter": "python",
   "pygments_lexer": "ipython3",
   "version": "3.9.16"
  }
 },
 "nbformat": 4,
 "nbformat_minor": 5
}
