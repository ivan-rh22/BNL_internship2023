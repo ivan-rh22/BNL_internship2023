{
 "cells": [
  {
   "cell_type": "code",
   "execution_count": 4,
   "id": "a114f0a9-a0bf-4004-ba16-c135403f320e",
   "metadata": {
    "tags": []
   },
   "outputs": [
    {
     "data": {
      "text/latex": [
       "$\\displaystyle \\large\\mathbf{A}=\\begin{bmatrix}4 &4-6i &3+i\\\\[1em]4 + 6i &12 &2 + 5i\\\\[1em]3-i &2-5i &5\\\\\\end{bmatrix}$"
      ],
      "text/plain": [
       "<IPython.core.display.Math object>"
      ]
     },
     "metadata": {},
     "output_type": "display_data"
    },
    {
     "data": {
      "text/latex": [
       "$\\displaystyle \\large\\mathbf{A^{-1}}=\\begin{bmatrix}-2.58333 &0.75-1.41667i &-0.16667 + 0.33333i\\\\[1em]0.75 + 1.41667i &-0.83333 &0.16667-0.16667i\\\\[1em]-0.16667-0.33333i &0.16667 + 0.16667i &0.33333\\\\\\end{bmatrix}$"
      ],
      "text/plain": [
       "<IPython.core.display.Math object>"
      ]
     },
     "metadata": {},
     "output_type": "display_data"
    },
    {
     "data": {
      "text/latex": [
       "$\\displaystyle \\large\\mathbf{\\overline{(A^{-1})^{T}}}=\\begin{bmatrix}-2.58333 &0.75-1.41667i &-0.16667 + 0.33333i\\\\[1em]0.75 + 1.41667i &-0.83333 &0.16667-0.16667i\\\\[1em]-0.16667-0.33333i &0.16667 + 0.16667i &0.33333\\\\\\end{bmatrix}$"
      ],
      "text/plain": [
       "<IPython.core.display.Math object>"
      ]
     },
     "metadata": {},
     "output_type": "display_data"
    },
    {
     "data": {
      "text/latex": [
       "$\\displaystyle \\mathbf{A^{-1}}=\\mathbf{\\overline{(A^{-1})^{T}}}\\;?\\;\\rightarrow\\;True$"
      ],
      "text/plain": [
       "<IPython.core.display.Math object>"
      ]
     },
     "metadata": {},
     "output_type": "display_data"
    }
   ],
   "source": [
    "\"\"\"hermitian_matrices.ipynb\"\"\"\n",
    "\n",
    "# Cell 1 - The inverse of a Hermitian matrix is also Hermitian\n",
    "\n",
    "# Some code is based on things provided by Dr. Biersach\n",
    "\n",
    "from __future__ import annotations\n",
    "\n",
    "import typing\n",
    "\n",
    "import numpy as np\n",
    "from IPython.core.display import Math\n",
    "from qis101_utils import as_latex\n",
    "\n",
    "if typing.TYPE_CHECKING:\n",
    "    from numpy.typing import NDArray\n",
    "\n",
    "# TODO: Add your code below this\n",
    "# fmt: off\n",
    "# Array for Hermitian Matrix values\n",
    "a: NDArray[np.complex_] = np.array(\n",
    "    [\n",
    "        [4, 4 - 6j, 3 + 1j],\n",
    "        [4 + 6j, 12, 2 + 5j],\n",
    "        [3 - 1j, 2 - 5j, 5]\n",
    "    ], dtype=np.complex_\n",
    ")\n",
    "# fmt: on\n",
    "\n",
    "# Displaying the Hermitian Matrix (with latex formatting)\n",
    "display(as_latex(a, prefix=r\"\\mathbf{A}=\"))\n",
    "\n",
    "t1: NDArray[np.complex_] = np.array(np.linalg.inv(a))\n",
    "t2: NDArray[np.complex_] = t1.conj().T\n",
    "\n",
    "# Displaying the values for the inverse of the Hermitian Matrix.\n",
    "display(as_latex(t1, prefix=r\"\\mathbf{A^{-1}}=\"))\n",
    "display(as_latex(t2, prefix=r\"\\mathbf{\\overline{(A^{-1})^{T}}}=\"))\n",
    "\n",
    "# Compare the transpose conjugate with original\n",
    "display(\n",
    "    Math(\n",
    "        (\n",
    "            r\"\\mathbf{A^{-1}}=\"\n",
    "            r\"\\mathbf{\\overline{(A^{-1})^{T}}}\"\n",
    "            rf\"\\;?\\;\\rightarrow\\;{np.isclose(t1,t2).all()}\"\n",
    "        )\n",
    "    )\n",
    ")\n"
   ]
  },
  {
   "cell_type": "code",
   "execution_count": 7,
   "id": "ccf20f1b-fb7f-4246-b58c-dd7a01965f03",
   "metadata": {
    "tags": []
   },
   "outputs": [
    {
     "data": {
      "text/latex": [
       "$\\displaystyle \\large\\mathbf{B}=\\begin{bmatrix}4 &4-6i &3+i\\\\[1em]4 + 6i &12 &2 + 5i\\\\[1em]3-i &2-5i &5\\\\\\end{bmatrix}$"
      ],
      "text/plain": [
       "<IPython.core.display.Math object>"
      ]
     },
     "metadata": {},
     "output_type": "display_data"
    },
    {
     "data": {
      "text/latex": [
       "$\\displaystyle \\large\\mathbf{B^7}=\\begin{bmatrix}193416536 &186819080-270482058i &164480715 + 41831489i\\\\[1em]186819080 + 270482058i &558700500 &100371370 + 270421549i\\\\[1em]164480715-41831489i &100371370-270421549i &148921333\\\\\\end{bmatrix}$"
      ],
      "text/plain": [
       "<IPython.core.display.Math object>"
      ]
     },
     "metadata": {},
     "output_type": "display_data"
    },
    {
     "data": {
      "text/latex": [
       "$\\displaystyle \\large\\mathbf{B^7}=\\begin{bmatrix}193416536 &186819080-270482058i &164480715 + 41831489i\\\\[1em]186819080 + 270482058i &558700500 &100371370 + 270421549i\\\\[1em]164480715-41831489i &100371370-270421549i &148921333\\\\\\end{bmatrix}$"
      ],
      "text/plain": [
       "<IPython.core.display.Math object>"
      ]
     },
     "metadata": {},
     "output_type": "display_data"
    },
    {
     "data": {
      "text/latex": [
       "$\\displaystyle \\mathbf{B^{7}}\\;is\\;Hermitian\\;?\\;\\rightarrow\\;False$"
      ],
      "text/plain": [
       "<IPython.core.display.Math object>"
      ]
     },
     "metadata": {},
     "output_type": "display_data"
    }
   ],
   "source": [
    "# Cell 2 - A Hermitian matrix raised to an integer\n",
    "#          exponent yields another Hermitian matrix\n",
    "\n",
    "# TODO: Add your code below this\n",
    "display(as_latex(a, prefix=r\"\\mathbf{B}=\"))\n",
    "\n",
    "t3: NDArray[np.complex_] = np.linalg.matrix_power(a, 7)\n",
    "t4: NDArray[np.complex_] = t3.conj().T\n",
    "\n",
    "# Displaying Hermitian Matrix raised to a power\n",
    "display(as_latex(t3, prefix=r\"\\mathbf{B^7}=\"))\n",
    "\n",
    "display(as_latex(t4, prefix=r\"\\mathbf{B^7}=\"))\n",
    "\n",
    "# Displays Results of test\n",
    "display(\n",
    "    Math(\n",
    "        (\n",
    "            r\"\\mathbf{B^{7}}\\;is\\;Hermitian\"\n",
    "            rf\"\\;?\\;\\rightarrow\\;{np.isclose(t3, t4).all()}\"\n",
    "        )\n",
    "    )\n",
    ")\n"
   ]
  }
 ],
 "metadata": {
  "kernelspec": {
   "display_name": "Python 3 (ipykernel)",
   "language": "python",
   "name": "python3"
  },
  "language_info": {
   "codemirror_mode": {
    "name": "ipython",
    "version": 3
   },
   "file_extension": ".py",
   "mimetype": "text/x-python",
   "name": "python",
   "nbconvert_exporter": "python",
   "pygments_lexer": "ipython3",
   "version": "3.9.16"
  }
 },
 "nbformat": 4,
 "nbformat_minor": 5
}
