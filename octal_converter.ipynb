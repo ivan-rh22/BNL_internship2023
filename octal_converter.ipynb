{
 "cells": [
  {
   "cell_type": "code",
   "execution_count": 1,
   "metadata": {},
   "outputs": [
    {
     "name": "stdout",
     "output_type": "stream",
     "text": [
      "2323 in octal = 1,235 in decimal\n"
     ]
    }
   ],
   "source": [
    "\"\"\"octal_converter.ipynb\"\"\"\n",
    "# Cell 1 - Octal to Decimal\n",
    "\n",
    "# Code is based on that provided by Dr. Biersach\n",
    "\n",
    "import numpy as np\n",
    "\n",
    "def octal_to_decimal(o: str) -> int:\n",
    "    \"\"\"\n",
    "    uses a loop to convert the octal number to a decimal number\n",
    "    \n",
    "    Args:\n",
    "        o: octal number (str)\n",
    "    Return:\n",
    "        sum: octal num converted to decimal (int)\n",
    "    \"\"\"\n",
    "    o = o[::-1]\n",
    "    sum = 0\n",
    "    for position in range(len(o)):\n",
    "        weight: int = pow(8, position)\n",
    "        digit = int(o[position])\n",
    "        sum += digit * weight\n",
    "    return sum\n",
    "\n",
    "# Testing and displaying results\n",
    "o: str = \"2323\"\n",
    "d: int = octal_to_decimal(o)\n",
    "print(f\"{o} in octal = {d:,} in decimal\")"
   ]
  },
  {
   "cell_type": "code",
   "execution_count": 3,
   "metadata": {},
   "outputs": [
    {
     "name": "stdout",
     "output_type": "stream",
     "text": [
      "1,235 in decimal = 2323 in octal\n"
     ]
    }
   ],
   "source": [
    "# Cell 2 - Decimal to Octal\n",
    "\n",
    "def decimal_to_octal(d: int) -> str:\n",
    "    \"\"\"\n",
    "    using a loop to convert decimal number to octal \n",
    "    \n",
    "    Args:\n",
    "        d: base 10 number (int)\n",
    "    Return:\n",
    "        o: octal number (str)\n",
    "    \"\"\"\n",
    "    o: str = \"\"\n",
    "    while d > 0:\n",
    "        o += str(d % 8)\n",
    "        d = int(d / 8)\n",
    "    o = o[::-1]\n",
    "    return o\n",
    "\n",
    "d: int = 1235\n",
    "o: str = decimal_to_octal(d)\n",
    "print(f\"{d:,} in decimal = {o} in octal\")\n"
   ]
  },
  {
   "cell_type": "code",
   "execution_count": 4,
   "metadata": {},
   "outputs": [
    {
     "name": "stdout",
     "output_type": "stream",
     "text": [
      "2323 in octal = 1,235 in decimal\n"
     ]
    }
   ],
   "source": [
    "# Cell 3 - no loop conversion (octal - dec)\n",
    "\n",
    "o: str = \"2323\"\n",
    "d: int = int(o, 8)\n",
    "print(f\"{o} in octal = {d:,} in decimal\")"
   ]
  },
  {
   "cell_type": "code",
   "execution_count": 5,
   "metadata": {},
   "outputs": [
    {
     "name": "stdout",
     "output_type": "stream",
     "text": [
      "1,235 in decimal = 2323 in octal\n"
     ]
    }
   ],
   "source": [
    "# Cell 4 - no loop conversion (dec - octal)\n",
    "\n",
    "d = 1235\n",
    "o: str = np.base_repr(d, base=8)\n",
    "print(f\"{d:,} in decimal = {o} in octal\")"
   ]
  }
 ],
 "metadata": {
  "kernelspec": {
   "display_name": "qis101",
   "language": "python",
   "name": "python3"
  },
  "language_info": {
   "codemirror_mode": {
    "name": "ipython",
    "version": 3
   },
   "file_extension": ".py",
   "mimetype": "text/x-python",
   "name": "python",
   "nbconvert_exporter": "python",
   "pygments_lexer": "ipython3",
   "version": "3.9.16"
  },
  "orig_nbformat": 4
 },
 "nbformat": 4,
 "nbformat_minor": 2
}
